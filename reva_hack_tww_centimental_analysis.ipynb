{
  "nbformat": 4,
  "nbformat_minor": 0,
  "metadata": {
    "colab": {
      "provenance": [],
      "collapsed_sections": [],
      "authorship_tag": "ABX9TyN30p8bhvb6mou81s/CSBRD",
      "include_colab_link": true
    },
    "kernelspec": {
      "name": "python3",
      "display_name": "Python 3"
    },
    "language_info": {
      "name": "python"
    }
  },
  "cells": [
    {
      "cell_type": "markdown",
      "metadata": {
        "id": "view-in-github",
        "colab_type": "text"
      },
      "source": [
        "<a href=\"https://colab.research.google.com/github/mudassir1231/machine_learning/blob/main/reva_hack_tww_centimental_analysis.ipynb\" target=\"_parent\"><img src=\"https://colab.research.google.com/assets/colab-badge.svg\" alt=\"Open In Colab\"/></a>"
      ]
    },
    {
      "cell_type": "code",
      "source": [
        "!pip install transformers"
      ],
      "metadata": {
        "colab": {
          "base_uri": "https://localhost:8080/"
        },
        "id": "GsBCyi9TZ3A5",
        "outputId": "5003955c-6921-4b1c-96fe-b290a825406a"
      },
      "execution_count": 1,
      "outputs": [
        {
          "output_type": "stream",
          "name": "stdout",
          "text": [
            "Looking in indexes: https://pypi.org/simple, https://us-python.pkg.dev/colab-wheels/public/simple/\n",
            "Requirement already satisfied: transformers in /usr/local/lib/python3.7/dist-packages (4.24.0)\n",
            "Requirement already satisfied: importlib-metadata in /usr/local/lib/python3.7/dist-packages (from transformers) (4.13.0)\n",
            "Requirement already satisfied: huggingface-hub<1.0,>=0.10.0 in /usr/local/lib/python3.7/dist-packages (from transformers) (0.10.1)\n",
            "Requirement already satisfied: tokenizers!=0.11.3,<0.14,>=0.11.1 in /usr/local/lib/python3.7/dist-packages (from transformers) (0.13.2)\n",
            "Requirement already satisfied: numpy>=1.17 in /usr/local/lib/python3.7/dist-packages (from transformers) (1.21.6)\n",
            "Requirement already satisfied: filelock in /usr/local/lib/python3.7/dist-packages (from transformers) (3.8.0)\n",
            "Requirement already satisfied: pyyaml>=5.1 in /usr/local/lib/python3.7/dist-packages (from transformers) (6.0)\n",
            "Requirement already satisfied: regex!=2019.12.17 in /usr/local/lib/python3.7/dist-packages (from transformers) (2022.6.2)\n",
            "Requirement already satisfied: tqdm>=4.27 in /usr/local/lib/python3.7/dist-packages (from transformers) (4.64.1)\n",
            "Requirement already satisfied: packaging>=20.0 in /usr/local/lib/python3.7/dist-packages (from transformers) (21.3)\n",
            "Requirement already satisfied: requests in /usr/local/lib/python3.7/dist-packages (from transformers) (2.23.0)\n",
            "Requirement already satisfied: typing-extensions>=3.7.4.3 in /usr/local/lib/python3.7/dist-packages (from huggingface-hub<1.0,>=0.10.0->transformers) (4.1.1)\n",
            "Requirement already satisfied: pyparsing!=3.0.5,>=2.0.2 in /usr/local/lib/python3.7/dist-packages (from packaging>=20.0->transformers) (3.0.9)\n",
            "Requirement already satisfied: zipp>=0.5 in /usr/local/lib/python3.7/dist-packages (from importlib-metadata->transformers) (3.10.0)\n",
            "Requirement already satisfied: urllib3!=1.25.0,!=1.25.1,<1.26,>=1.21.1 in /usr/local/lib/python3.7/dist-packages (from requests->transformers) (1.24.3)\n",
            "Requirement already satisfied: idna<3,>=2.5 in /usr/local/lib/python3.7/dist-packages (from requests->transformers) (2.10)\n",
            "Requirement already satisfied: certifi>=2017.4.17 in /usr/local/lib/python3.7/dist-packages (from requests->transformers) (2022.9.24)\n",
            "Requirement already satisfied: chardet<4,>=3.0.2 in /usr/local/lib/python3.7/dist-packages (from requests->transformers) (3.0.4)\n"
          ]
        }
      ]
    },
    {
      "cell_type": "code",
      "execution_count": 5,
      "metadata": {
        "id": "EMpL1BTbZrO6"
      },
      "outputs": [],
      "source": [
        "from transformers import AutoModelForSequenceClassification\n",
        "from transformers import TFAutoModelForSequenceClassification\n",
        "from transformers import AutoTokenizer\n",
        "import numpy as np\n",
        "from scipy.special import softmax\n",
        "import csv\n",
        "import urllib.request\n",
        "\n",
        "# Preprocess text (username and link placeholders)\n",
        "def preprocess(text):\n",
        "    new_text = []\n",
        " \n",
        " \n",
        "    for t in text.split(\" \"):\n",
        "        t = '@user' if t.startswith('@') and len(t) > 1 else t\n",
        "        t = 'http' if t.startswith('http') else t\n",
        "        new_text.append(t)\n",
        "    return \" \".join(new_text)\n",
        "\n",
        "# Tasks:\n",
        "# emoji, emotion, hate, irony, offensive, sentiment\n",
        "# stance/abortion, stance/atheism, stance/climate, stance/feminist, stance/hillary\n",
        "\n",
        "task='sentiment'\n",
        "MODEL = f\"cardiffnlp/twitter-roberta-base-{task}\"\n",
        "\n",
        "tokenizer = AutoTokenizer.from_pretrained(MODEL)\n",
        "\n",
        "\n",
        "# download label mapping\n",
        "labels=[]\n",
        "mapping_link = f\"https://raw.githubusercontent.com/cardiffnlp/tweeteval/main/datasets/{task}/mapping.txt\"\n",
        "with urllib.request.urlopen(mapping_link) as f:\n",
        "    html = f.read().decode('utf-8').split(\"\\n\")\n",
        "    csvreader = csv.reader(html, delimiter='\\t')\n",
        "labels = [row[1] for row in csvreader if len(row) > 1]\n",
        "\n",
        "\n",
        "# PT\n",
        "model = AutoModelForSequenceClassification.from_pretrained(MODEL)\n",
        "model.save_pretrained(MODEL)\n",
        "\n",
        "\n"
      ]
    },
    {
      "cell_type": "code",
      "source": [
        "def sentmm(text):\n",
        "    # text = \"\"\"you are a  boy\"\"\"\n",
        "    respp=[]\n",
        "    text = preprocess(text)\n",
        "    encoded_input = tokenizer(text, return_tensors='pt')\n",
        "    output = model(**encoded_input)\n",
        "    scores = output[0][0].detach().numpy()\n",
        "    scores = softmax(scores)\n",
        "    return scores"
      ],
      "metadata": {
        "id": "KYy5_s3_Zzlh"
      },
      "execution_count": 6,
      "outputs": []
    },
    {
      "cell_type": "code",
      "source": [
        "!pip install snscrape"
      ],
      "metadata": {
        "id": "K1HShuFaaeo-",
        "colab": {
          "base_uri": "https://localhost:8080/"
        },
        "outputId": "52be192d-59f8-4732-949d-82b9f8c47fd8"
      },
      "execution_count": 7,
      "outputs": [
        {
          "output_type": "stream",
          "name": "stdout",
          "text": [
            "Looking in indexes: https://pypi.org/simple, https://us-python.pkg.dev/colab-wheels/public/simple/\n",
            "Requirement already satisfied: snscrape in /usr/local/lib/python3.7/dist-packages (0.3.4)\n",
            "Requirement already satisfied: requests[socks] in /usr/local/lib/python3.7/dist-packages (from snscrape) (2.23.0)\n",
            "Requirement already satisfied: lxml in /usr/local/lib/python3.7/dist-packages (from snscrape) (4.9.1)\n",
            "Requirement already satisfied: beautifulsoup4 in /usr/local/lib/python3.7/dist-packages (from snscrape) (4.6.3)\n",
            "Requirement already satisfied: chardet<4,>=3.0.2 in /usr/local/lib/python3.7/dist-packages (from requests[socks]->snscrape) (3.0.4)\n",
            "Requirement already satisfied: urllib3!=1.25.0,!=1.25.1,<1.26,>=1.21.1 in /usr/local/lib/python3.7/dist-packages (from requests[socks]->snscrape) (1.24.3)\n",
            "Requirement already satisfied: certifi>=2017.4.17 in /usr/local/lib/python3.7/dist-packages (from requests[socks]->snscrape) (2022.9.24)\n",
            "Requirement already satisfied: idna<3,>=2.5 in /usr/local/lib/python3.7/dist-packages (from requests[socks]->snscrape) (2.10)\n",
            "Requirement already satisfied: PySocks!=1.5.7,>=1.5.6 in /usr/local/lib/python3.7/dist-packages (from requests[socks]->snscrape) (1.7.1)\n"
          ]
        }
      ]
    },
    {
      "cell_type": "code",
      "source": [
        "import statistics\n",
        "import snscrape.modules.twitter as sntwitter\n",
        "import pandas as pd\n",
        "zzz=[]"
      ],
      "metadata": {
        "id": "dHGRiEsMZ8f3"
      },
      "execution_count": 8,
      "outputs": []
    },
    {
      "cell_type": "code",
      "source": [
        "def tweett(query,limit):\n",
        "  tweets = []\n",
        "  tweetscore = []\n",
        "  zzz1=[]\n",
        "\n",
        "  for tweet in sntwitter.TwitterSearchScraper(query).get_items():\n",
        "      # print(tweet.content)\n",
        "      # break\n",
        "      if len(tweets) == limit:\n",
        "          break\n",
        "      else:\n",
        "          tweets.append([tweet.date, tweet.content])\n",
        "          x=sentmm(tweet.content)\n",
        "          tweetscore.append([x[0],x[1],x[2]])\n",
        "\n",
        "  sc = pd.DataFrame(tweetscore, columns=['-ve', '*','+ve'])\n",
        "  df = pd.DataFrame(tweets, columns=['Date', 'Tweet'])\n",
        "  # print(df)\n",
        "  # mn=statistics.mean(tweetscore)\n",
        "  zzz1.append([sc[\"-ve\"].mean(),sc[\"*\"].mean(),sc[\"+ve\"].mean()])\n",
        "  zzz1\n",
        "  return zzz1\n"
      ],
      "metadata": {
        "id": "EBlZXHHoZ-9_"
      },
      "execution_count": 12,
      "outputs": []
    },
    {
      "cell_type": "code",
      "source": [
        "# x=tweett('indian stocks today',50)\n",
        "# zzz.append([x[\"-ve\"].mean(),x[\"*\"].mean(),x[\"+ve\"].mean()])\n",
        "# zzz"
      ],
      "metadata": {
        "id": "6DZK_lqGaBtH",
        "colab": {
          "base_uri": "https://localhost:8080/"
        },
        "outputId": "36948a79-aa86-4f36-a40e-d7ea19004d1f"
      },
      "execution_count": 10,
      "outputs": [
        {
          "output_type": "execute_result",
          "data": {
            "text/plain": [
              "[[0.07357584, 0.6880694, 0.2383548]]"
            ]
          },
          "metadata": {},
          "execution_count": 10
        }
      ]
    },
    {
      "cell_type": "code",
      "source": [
        "x=tweett('indian stocks today',5)"
      ],
      "metadata": {
        "id": "k1vake2mg_TY"
      },
      "execution_count": 13,
      "outputs": []
    },
    {
      "cell_type": "code",
      "source": [
        "x"
      ],
      "metadata": {
        "colab": {
          "base_uri": "https://localhost:8080/"
        },
        "id": "shKBs1jHhfvt",
        "outputId": "3250ba3e-1703-4d27-d93e-4955ed9bea73"
      },
      "execution_count": 17,
      "outputs": [
        {
          "output_type": "execute_result",
          "data": {
            "text/plain": [
              "[[0.026979685, 0.57311434, 0.399906]]"
            ]
          },
          "metadata": {},
          "execution_count": 17
        }
      ]
    },
    {
      "cell_type": "code",
      "source": [
        "X=[[0.07357584, 0.6880694, 0.2383548]]"
      ],
      "metadata": {
        "id": "fOU0iikEnbiv"
      },
      "execution_count": 30,
      "outputs": []
    },
    {
      "cell_type": "code",
      "source": [
        "!pip install pyngrok"
      ],
      "metadata": {
        "id": "xZV86kRcifpB"
      },
      "execution_count": null,
      "outputs": []
    },
    {
      "cell_type": "code",
      "source": [
        "from flask import Flask, redirect, url_for\n",
        "from flask import Flask, render_template ,send_file\n",
        "from pyngrok import ngrok\n",
        "from flask import request\n",
        "\n",
        "port_no = 5000\n",
        "app = Flask(__name__)\n",
        "ngrok.set_auth_token(\"1msOb6Pmqpiqu93U0whQYK2QcP4_QgVjEAfLjZw8Bcw1QEAX\")\n",
        "public_url =  ngrok.connect(port_no).public_url\n",
        "print(f\"To acces the Gloable link please click {public_url}\")\n",
        "\n",
        "# @app.route(\"/\")\n",
        "# def home():\n",
        "# \treturn \"Hello! This is the home page <h1>HELLO</h1>\"\n",
        "\n",
        "# @app.route(\"/\")\n",
        "# def home():\n",
        "#     return render_template(\"index.html\")\n",
        "\n",
        "# @app.route(\"/<name>\")\n",
        "# def user(name):\n",
        "# \treturn f\"Hello {name}!\"\n",
        "\n",
        "# @app.route(\"/admin\")\n",
        "# \treturn redirect(url_for(\"user\", name=\"Admin!\"))  # Now we when we go to /admin we will redirect to user with the argument \"Admin!\"\n",
        "\n",
        "@app.route('/', methods =[\"GET\", \"POST\"])\n",
        "def gfg():\n",
        "    if request.method == \"POST\":\n",
        "       # getting input with name = fname in HTML form\n",
        "       first_name = request.form.get(\"fname\")\n",
        "       if first_name != '':\n",
        "         X=tweett(first_name,20)\n",
        "         return render_template(\"in2.html\",xnn=X)\n",
        "        #  return send_file(X, mimetype='image/png')\n",
        "      #  # getting input with name = lname in HTML form\n",
        "      #  last_name = request.form.get(\"lname\")\n",
        "      #  return \"Your name is \"+first_name + last_name\n",
        "    return render_template(\"index.html\")\n",
        "\n",
        "if __name__ == \"__main__\":\n",
        "  \n",
        "\tapp.run(port=port_no)"
      ],
      "metadata": {
        "colab": {
          "base_uri": "https://localhost:8080/"
        },
        "id": "iNLeX_8YgQmj",
        "outputId": "54a24015-978a-415f-d205-a16f2ceb03c7"
      },
      "execution_count": null,
      "outputs": [
        {
          "output_type": "stream",
          "name": "stdout",
          "text": [
            "To acces the Gloable link please click http://b9d5-35-236-128-142.ngrok.io\n",
            " * Serving Flask app \"__main__\" (lazy loading)\n",
            " * Environment: production\n",
            "\u001b[31m   WARNING: This is a development server. Do not use it in a production deployment.\u001b[0m\n",
            "\u001b[2m   Use a production WSGI server instead.\u001b[0m\n",
            " * Debug mode: off\n"
          ]
        },
        {
          "output_type": "stream",
          "name": "stderr",
          "text": [
            "INFO:werkzeug: * Running on http://127.0.0.1:5000/ (Press CTRL+C to quit)\n",
            "INFO:werkzeug:127.0.0.1 - - [12/Nov/2022 16:48:45] \"\u001b[37mGET / HTTP/1.1\u001b[0m\" 200 -\n",
            "INFO:werkzeug:127.0.0.1 - - [12/Nov/2022 16:48:46] \"\u001b[33mGET /favicon.ico HTTP/1.1\u001b[0m\" 404 -\n",
            "INFO:werkzeug:127.0.0.1 - - [12/Nov/2022 16:48:47] \"\u001b[37mGET / HTTP/1.1\u001b[0m\" 200 -\n",
            "INFO:werkzeug:127.0.0.1 - - [12/Nov/2022 16:49:21] \"\u001b[37mPOST / HTTP/1.1\u001b[0m\" 200 -\n",
            "INFO:werkzeug:127.0.0.1 - - [12/Nov/2022 16:49:40] \"\u001b[37mGET / HTTP/1.1\u001b[0m\" 200 -\n"
          ]
        }
      ]
    },
    {
      "cell_type": "code",
      "source": [
        "# <!doctype html>\n",
        "# <html>\n",
        "#     <head>\n",
        "#         <title>Home page</title>\n",
        "#     </head>\n",
        "#     <body>\n",
        "#         <h1>twitter centimental analysys</h1>\n",
        "#         <form action=\"{{ url_for(\"gfg\")}}\" method=\"post\">\n",
        "#         <label for=\"firstname\">Enter the topic on twitter</label>\n",
        "#         <input type=\"text\" id=\"firstname\" name=\"fname\" placeholder=\"txet\">\n",
        "#         <button type=\"submit\">analyse</button>\n",
        "#  <br> <br>\n",
        "#  <p>positive=</p>{{ xnn[0][0] }}\n",
        "#  <br> <br>\n",
        "#  <p>neutral=</p>{{ xnn[0][1] }}\n",
        "#  <br> <br>\n",
        "#  <p>negative=</p>{{ xnn[0][2] }}\n",
        "\n",
        "#     </body>\n",
        "# </html>"
      ],
      "metadata": {
        "id": "OHJL_NKMrEVC"
      },
      "execution_count": null,
      "outputs": []
    }
  ]
}